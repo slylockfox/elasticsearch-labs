{
 "cells": [
  {
   "cell_type": "markdown",
   "metadata": {},
   "source": [
    "# Ingestion Data"
   ]
  },
  {
   "cell_type": "markdown",
   "metadata": {},
   "source": [
    "## You'll need to install the following libraries if they are not already installed:"
   ]
  },
  {
   "cell_type": "code",
   "execution_count": null,
   "metadata": {},
   "outputs": [],
   "source": [
    "pip install elasticsearch sentence-transformers pyyaml"
   ]
  },
  {
   "cell_type": "code",
   "execution_count": 17,
   "metadata": {},
   "outputs": [],
   "source": [
    "import json\n",
    "import yaml\n",
    "from elasticsearch import Elasticsearch, helpers\n",
    "from sentence_transformers import SentenceTransformer"
   ]
  },
  {
   "cell_type": "code",
   "execution_count": null,
   "metadata": {},
   "outputs": [],
   "source": [
    "# Step 1: Elasticsearch client setup using cloud configuration"
   ]
  },
  {
   "cell_type": "code",
   "execution_count": 3,
   "metadata": {},
   "outputs": [],
   "source": [
    "def get_client_es():\n",
    "    \"\"\"\n",
    "    Initializes Elasticsearch client using cloud_id and api_key from config.yml\n",
    "    \"\"\"\n",
    "    with open(\"../config.yml\", \"r\") as file:\n",
    "        config = yaml.safe_load(file)\n",
    "    return Elasticsearch(config[\"cloud_url\"], api_key=config[\"api_key\"])"
   ]
  },
  {
   "cell_type": "markdown",
   "metadata": {},
   "source": [
    "# Step 2: Text Vectorization using SentenceTransformers\n"
   ]
  },
  {
   "cell_type": "code",
   "execution_count": 4,
   "metadata": {},
   "outputs": [],
   "source": [
    "def get_text_vector(sentences):\n",
    "    \"\"\"\n",
    "    Generates sentence embeddings using pre-trained model 'all-MiniLM-L6-v2'.\n",
    "    \"\"\"\n",
    "    model = SentenceTransformer(\"sentence-transformers/all-MiniLM-L6-v2\")\n",
    "    embeddings = model.encode(sentences)\n",
    "    return embeddings"
   ]
  },
  {
   "cell_type": "markdown",
   "metadata": {},
   "source": [
    "# Step 3: Read JSON file containing the dataset\n"
   ]
  },
  {
   "cell_type": "code",
   "execution_count": 18,
   "metadata": {},
   "outputs": [],
   "source": [
    "def read_json_file(file_path):\n",
    "    \"\"\"\n",
    "    Reads and loads the dataset from a JSON file.\n",
    "    \"\"\"\n",
    "    with open(file_path, \"r\") as file:\n",
    "        data = json.load(file)\n",
    "    return data"
   ]
  },
  {
   "cell_type": "markdown",
   "metadata": {},
   "source": [
    "# Step 4: Chunk data for batch processing\n"
   ]
  },
  {
   "cell_type": "code",
   "execution_count": 19,
   "metadata": {},
   "outputs": [],
   "source": [
    "def chunk_data(data, batch_size):\n",
    "    \"\"\"\n",
    "    Yields chunks of data in batch sizes for bulk indexing in Elasticsearch.\n",
    "    \"\"\"\n",
    "    for i in range(0, len(data), batch_size):\n",
    "        yield data[i : i + batch_size]"
   ]
  },
  {
   "cell_type": "markdown",
   "metadata": {},
   "source": [
    "# Step 5: Generate bulk actions for Elasticsearch indexing\n"
   ]
  },
  {
   "cell_type": "code",
   "execution_count": 20,
   "metadata": {},
   "outputs": [],
   "source": [
    "def generate_bulk_actions(index_name, data_batch):\n",
    "    \"\"\"\n",
    "    Generates bulk actions for Elasticsearch from data batches.\n",
    "    Adds 'description_embeddings' by encoding the 'description' field.\n",
    "    \"\"\"\n",
    "    for item in data_batch:\n",
    "        document_id = item[\"id\"]\n",
    "        # item[\"description_embeddings\"] = get_text_vector(item[\"description\"])\n",
    "        yield {\"_index\": index_name, \"_id\": document_id, \"_source\": item}"
   ]
  },
  {
   "cell_type": "markdown",
   "metadata": {},
   "source": [
    "# Step 6: Indexing data in batches to Elasticsearch\n"
   ]
  },
  {
   "cell_type": "code",
   "execution_count": 24,
   "metadata": {},
   "outputs": [],
   "source": [
    "import pandas as pd\n",
    "def index_data_in_batches(file_path, index_name, batch_size=100):\n",
    "    \"\"\"\n",
    "    Indexes data from the JSON file in batches using Elasticsearch helpers.bulk.\n",
    "    \"\"\"\n",
    "    data = read_json_file(file_path)\n",
    "\n",
    "    for batch in chunk_data(data, batch_size):\n",
    "        #actions = generate_bulk_actions(index_name, batch)\n",
    "        #success, failed = helpers.bulk(get_client_es(), actions)\n",
    "        #print(f\"Batch indexed: {success} successful, {failed} failed\")\n",
    "        df = pd.DataFrame(list(generate_bulk_actions(\"foo\", batch)))\n",
    "        print(df)\n",
    "\n",
    "\n",
    "# main execution block\n",
    "# if __name__ == '__main__':\n",
    "#     index_data_in_batches(\"../files/dataset/products.json\", \"products-catalog\", batch_size=100)"
   ]
  },
  {
   "cell_type": "code",
   "execution_count": 25,
   "metadata": {},
   "outputs": [
    {
     "name": "stdout",
     "output_type": "stream",
     "text": [
      "   _index   _id                                            _source\n",
      "0     foo  1048  {'id': '1048', 'brand': 'colourpop', 'name': '...\n",
      "1     foo  1047  {'id': '1047', 'brand': 'colourpop', 'name': '...\n",
      "2     foo  1046  {'id': '1046', 'brand': 'colourpop', 'name': '...\n",
      "3     foo  1045  {'id': '1045', 'brand': 'colourpop', 'name': '...\n",
      "4     foo  1044  {'id': '1044', 'brand': 'boosh', 'name': 'Lips...\n",
      "..    ...   ...                                                ...\n",
      "95    foo   953  {'id': '953', 'brand': 'nyx', 'name': 'Collect...\n",
      "96    foo   952  {'id': '952', 'brand': 'nyx', 'name': 'Super F...\n",
      "97    foo   951  {'id': '951', 'brand': 'nyx', 'name': 'Super S...\n",
      "98    foo   950  {'id': '950', 'brand': 'nyx', 'name': 'Felt Ti...\n",
      "99    foo   949  {'id': '949', 'brand': 'nyx', 'name': 'The Cur...\n",
      "\n",
      "[100 rows x 3 columns]\n",
      "   _index  _id                                            _source\n",
      "0     foo  948  {'id': '948', 'brand': 'nyx', 'name': 'Colored...\n",
      "1     foo  947  {'id': '947', 'brand': 'nyx', 'name': 'Vinyl L...\n",
      "2     foo  946  {'id': '946', 'brand': 'nyx', 'name': 'That's ...\n",
      "3     foo  945  {'id': '945', 'brand': 'nyx', 'name': 'White L...\n",
      "4     foo  944  {'id': '944', 'brand': 'nyx', 'name': 'Studio ...\n",
      "..    ...  ...                                                ...\n",
      "95    foo  852  {'id': '852', 'brand': 'nyx', 'name': 'Soft Ma...\n",
      "96    foo  851  {'id': '851', 'brand': 'nyx', 'name': 'Soft Ma...\n",
      "97    foo  850  {'id': '850', 'brand': 'fenty', 'name': 'MATTE...\n",
      "98    foo  849  {'id': '849', 'brand': 'fenty', 'name': 'ECLIP...\n",
      "99    foo  848  {'id': '848', 'brand': 'fenty', 'name': 'COSMI...\n",
      "\n",
      "[100 rows x 3 columns]\n",
      "   _index  _id                                            _source\n",
      "0     foo  847  {'id': '847', 'brand': 'fenty', 'name': 'MATCH...\n",
      "1     foo  846  {'id': '846', 'brand': 'clinique', 'name': 'Ev...\n",
      "2     foo  845  {'id': '845', 'brand': 'clinique', 'name': 'Re...\n",
      "3     foo  844  {'id': '844', 'brand': 'clinique', 'name': 'St...\n",
      "4     foo  843  {'id': '843', 'brand': 'clinique', 'name': 'Re...\n",
      "..    ...  ...                                                ...\n",
      "95    foo  740  {'id': '740', 'brand': 'dior', 'name': '\n",
      "     ...\n",
      "96    foo  730  {'id': '730', 'brand': 'dior', 'name': '\n",
      "     ...\n",
      "97    foo  729  {'id': '729', 'brand': 'dior', 'name': '\n",
      "     ...\n",
      "98    foo  728  {'id': '728', 'brand': 'dior', 'name': '\n",
      "     ...\n",
      "99    foo  727  {'id': '727', 'brand': 'dior', 'name': '\n",
      "     ...\n",
      "\n",
      "[100 rows x 3 columns]\n",
      "   _index  _id                                            _source\n",
      "0     foo  726  {'id': '726', 'brand': 'dior', 'name': '\n",
      "     ...\n",
      "1     foo  725  {'id': '725', 'brand': 'dior', 'name': '\n",
      "     ...\n",
      "2     foo  724  {'id': '724', 'brand': 'dior', 'name': '\n",
      "     ...\n",
      "3     foo  723  {'id': '723', 'brand': 'dior', 'name': '\n",
      "     ...\n",
      "4     foo  722  {'id': '722', 'brand': 'dior', 'name': '\n",
      "     ...\n",
      "..    ...  ...                                                ...\n",
      "95    foo  630  {'id': '630', 'brand': 'benefit', 'name': 'ka-...\n",
      "96    foo  629  {'id': '629', 'brand': 'benefit', 'name': 'goo...\n",
      "97    foo  628  {'id': '628', 'brand': 'benefit', 'name': 'gim...\n",
      "98    foo  627  {'id': '627', 'brand': 'benefit', 'name': 'big...\n",
      "99    foo  626  {'id': '626', 'brand': 'benefit', 'name': 'def...\n",
      "\n",
      "[100 rows x 3 columns]\n",
      "   _index  _id                                            _source\n",
      "0     foo  625  {'id': '625', 'brand': 'benefit', 'name': 'sof...\n",
      "1     foo  624  {'id': '624', 'brand': 'benefit', 'name': 'hyd...\n",
      "2     foo  623  {'id': '623', 'brand': 'benefit', 'name': 'BIG...\n",
      "3     foo  622  {'id': '622', 'brand': 'benefit', 'name': 'ult...\n",
      "4     foo  621  {'id': '621', 'brand': 'benefit', 'name': 'hoo...\n",
      "..    ...  ...                                                ...\n",
      "95    foo  484  {'id': '484', 'brand': 'physicians formula', '...\n",
      "96    foo  483  {'id': '483', 'brand': 'dr. hauschka', 'name':...\n",
      "97    foo  481  {'id': '481', 'brand': 'pure anada', 'name': '...\n",
      "98    foo  480  {'id': '480', 'brand': 'cargo cosmetics', 'nam...\n",
      "99    foo  479  {'id': '479', 'brand': 'physicians formula', '...\n",
      "\n",
      "[100 rows x 3 columns]\n",
      "   _index  _id                                            _source\n",
      "0     foo  478  {'id': '478', 'brand': 'e.l.f.', 'name': 'e.l....\n",
      "1     foo  477  {'id': '477', 'brand': 'maybelline', 'name': '...\n",
      "2     foo  476  {'id': '476', 'brand': 'nyx', 'name': 'NYX Mos...\n",
      "3     foo  475  {'id': '475', 'brand': '', 'name': 'Fake Bake ...\n",
      "4     foo  474  {'id': '474', 'brand': 'nyx', 'name': 'NYX Omb...\n",
      "..    ...  ...                                                ...\n",
      "95    foo  377  {'id': '377', 'brand': 'mineral fusion', 'name...\n",
      "96    foo  376  {'id': '376', 'brand': 'pure anada', 'name': '...\n",
      "97    foo  375  {'id': '375', 'brand': 'dr. hauschka', 'name':...\n",
      "98    foo  374  {'id': '374', 'brand': 'physicians formula', '...\n",
      "99    foo  373  {'id': '373', 'brand': 'nyx', 'name': 'NYX Min...\n",
      "\n",
      "[100 rows x 3 columns]\n",
      "   _index  _id                                            _source\n",
      "0     foo  372  {'id': '372', 'brand': 'nyx', 'name': 'NYX Sta...\n",
      "1     foo  371  {'id': '371', 'brand': 'milani', 'name': 'Mila...\n",
      "2     foo  370  {'id': '370', 'brand': 'physicians formula', '...\n",
      "3     foo  369  {'id': '369', 'brand': 'physicians formula', '...\n",
      "4     foo  368  {'id': '368', 'brand': 'physicians formula', '...\n",
      "..    ...  ...                                                ...\n",
      "95    foo  266  {'id': '266', 'brand': 'anna sui', 'name': 'An...\n",
      "96    foo  265  {'id': '265', 'brand': 'covergirl', 'name': 'C...\n",
      "97    foo  264  {'id': '264', 'brand': 'revlon', 'name': 'Revl...\n",
      "98    foo  262  {'id': '262', 'brand': 'physicians formula', '...\n",
      "99    foo  261  {'id': '261', 'brand': 'covergirl', 'name': 'C...\n",
      "\n",
      "[100 rows x 3 columns]\n",
      "   _index  _id                                            _source\n",
      "0     foo  260  {'id': '260', 'brand': 'l'oreal', 'name': 'L'O...\n",
      "1     foo  259  {'id': '259', 'brand': 'physicians formula', '...\n",
      "2     foo  258  {'id': '258', 'brand': 'milani', 'name': 'Mila...\n",
      "3     foo  257  {'id': '257', 'brand': 'annabelle', 'name': 'A...\n",
      "4     foo  256  {'id': '256', 'brand': 'marcelle', 'name': 'Ma...\n",
      "..    ...  ...                                                ...\n",
      "95    foo  149  {'id': '149', 'brand': 'orly', 'name': 'Orly E...\n",
      "96    foo  148  {'id': '148', 'brand': 'orly', 'name': 'Orly N...\n",
      "97    foo  147  {'id': '147', 'brand': 'wet n wild', 'name': '...\n",
      "98    foo  146  {'id': '146', 'brand': 'maybelline', 'name': '...\n",
      "99    foo  145  {'id': '145', 'brand': 'maybelline', 'name': '...\n",
      "\n",
      "[100 rows x 3 columns]\n",
      "   _index  _id                                            _source\n",
      "0     foo  144  {'id': '144', 'brand': 'pacifica', 'name': 'Pa...\n",
      "1     foo  142  {'id': '142', 'brand': 'l'oreal', 'name': 'L'O...\n",
      "2     foo  141  {'id': '141', 'brand': 'l'oreal', 'name': 'L'O...\n",
      "3     foo  140  {'id': '140', 'brand': 'pacifica', 'name': '7 ...\n",
      "4     foo  139  {'id': '139', 'brand': 'china glaze', 'name': ...\n",
      "..    ...  ...                                                ...\n",
      "95    foo   36  {'id': '36', 'brand': 'wet n wild', 'name': 'W...\n",
      "96    foo   35  {'id': '35', 'brand': 'covergirl', 'name': 'Co...\n",
      "97    foo   34  {'id': '34', 'brand': 'covergirl', 'name': 'Co...\n",
      "98    foo   33  {'id': '33', 'brand': 'covergirl', 'name': 'Co...\n",
      "99    foo   32  {'id': '32', 'brand': 'maybelline', 'name': 'M...\n",
      "\n",
      "[100 rows x 3 columns]\n",
      "   _index _id                                            _source\n",
      "0     foo  31  {'id': '31', 'brand': 'covergirl', 'name': 'Co...\n",
      "1     foo  30  {'id': '30', 'brand': 'almay', 'name': 'Almay ...\n",
      "2     foo  29  {'id': '29', 'brand': 'maybelline', 'name': 'M...\n",
      "3     foo  28  {'id': '28', 'brand': 'physicians formula', 'n...\n",
      "4     foo  27  {'id': '27', 'brand': 'dr. hauschka', 'name': ...\n",
      "5     foo  26  {'id': '26', 'brand': 'e.l.f.', 'name': 'e.l.f...\n",
      "6     foo  25  {'id': '25', 'brand': 'l'oreal', 'name': 'L'Or...\n",
      "7     foo  24  {'id': '24', 'brand': 'almay', 'name': 'Almay ...\n",
      "8     foo  23  {'id': '23', 'brand': 'maybelline', 'name': 'M...\n",
      "9     foo  22  {'id': '22', 'brand': 'e.l.f.', 'name': 'e.l.f...\n",
      "10    foo  21  {'id': '21', 'brand': '', 'name': 'Earth Lab R...\n",
      "11    foo  20  {'id': '20', 'brand': 'maybelline', 'name': 'M...\n",
      "12    foo  19  {'id': '19', 'brand': 'l'oreal', 'name': 'L'Or...\n",
      "13    foo  18  {'id': '18', 'brand': 'l'oreal', 'name': 'L'Or...\n",
      "14    foo  17  {'id': '17', 'brand': 'suncoat', 'name': 'Sunc...\n",
      "15    foo  16  {'id': '16', 'brand': 'pacifica', 'name': 'Pac...\n",
      "16    foo  15  {'id': '15', 'brand': 'physicians formula', 'n...\n",
      "17    foo  14  {'id': '14', 'brand': 'maybelline', 'name': 'M...\n",
      "18    foo  13  {'id': '13', 'brand': 'l'oreal', 'name': 'L'Or...\n",
      "19    foo  12  {'id': '12', 'brand': 'maybelline', 'name': 'M...\n",
      "20    foo  11  {'id': '11', 'brand': 'maybelline', 'name': 'M...\n",
      "21    foo  10  {'id': '10', 'brand': 'l'oreal', 'name': 'L'Or...\n",
      "22    foo   9  {'id': '9', 'brand': 'maybelline', 'name': 'Ma...\n",
      "23    foo   8  {'id': '8', 'brand': 'maybelline', 'name': 'Ma...\n",
      "24    foo   7  {'id': '7', 'brand': 'maybelline', 'name': 'Ma...\n",
      "25    foo   6  {'id': '6', 'brand': 'covergirl', 'name': 'Cov...\n",
      "26    foo   5  {'id': '5', 'brand': 'pacifica', 'name': 'Paci...\n",
      "27    foo   4  {'id': '4', 'brand': 'physicians formula', 'na...\n",
      "28    foo   3  {'id': '3', 'brand': 'physicians formula', 'na...\n",
      "29    foo   2  {'id': '2', 'brand': '', 'name': 'L' Oreal Par...\n",
      "30    foo   1  {'id': '1', 'brand': 'pure anada', 'name': 'Pu...\n"
     ]
    }
   ],
   "source": [
    "index_data_in_batches(\n",
    "    \"../files/dataset/products.json\", \"products-catalog-2\", batch_size=100\n",
    ")"
   ]
  },
  {
   "cell_type": "code",
   "execution_count": 14,
   "metadata": {},
   "outputs": [],
   "source": [
    "index_name = \"products-catalog-2\"\n",
    "mapping = {\n",
    "    \"mappings\": {\n",
    "        \"properties\": {\n",
    "            \"id\": {\"type\": \"keyword\"},\n",
    "            \"brand\": {\n",
    "                \"type\": \"text\",\n",
    "                \"fields\": {\"keyword\": {\"type\": \"keyword\"}},\n",
    "            },\n",
    "            \"name\": {\"type\": \"text\"},\n",
    "            \"price\": {\"type\": \"float\"},\n",
    "            \"price_sign\": {\"type\": \"keyword\"},\n",
    "            \"currency\": {\"type\": \"keyword\"},\n",
    "            \"image_link\": {\"type\": \"keyword\"},\n",
    "            \"description\": {\"type\": \"text\"},\n",
    "            \"description_embeddings\": {\"type\": \"dense_vector\", \"dims\": 384},\n",
    "            \"rating\": {\"type\": \"keyword\"},\n",
    "            \"category\": {\"type\": \"keyword\"},\n",
    "            \"product_type\": {\"type\": \"keyword\"},\n",
    "            \"tag_list\": {\"type\": \"keyword\"},\n",
    "        }\n",
    "    },\n",
    "}\n",
    "\n",
    "def create_index(index_name, mapping):\n",
    "    if not get_client_es().indices.exists(index=index_name):\n",
    "        get_client_es().indices.create(index=index_name, body=mapping)\n",
    "        print(f\"Index '{index_name}' created successfully.\")\n",
    "    else:\n",
    "        print(f\"Index '{index_name}' already exists.\")\n",
    "\n"
   ]
  },
  {
   "cell_type": "code",
   "execution_count": 15,
   "metadata": {},
   "outputs": [
    {
     "name": "stdout",
     "output_type": "stream",
     "text": [
      "Index 'products-catalog-2' created successfully.\n"
     ]
    }
   ],
   "source": [
    "create_index(index_name, mapping)"
   ]
  }
 ],
 "metadata": {
  "kernelspec": {
   "display_name": "Python [conda env:base] *",
   "language": "python",
   "name": "conda-base-py"
  },
  "language_info": {
   "codemirror_mode": {
    "name": "ipython",
    "version": 3
   },
   "file_extension": ".py",
   "mimetype": "text/x-python",
   "name": "python",
   "nbconvert_exporter": "python",
   "pygments_lexer": "ipython3",
   "version": "3.12.7"
  }
 },
 "nbformat": 4,
 "nbformat_minor": 4
}
